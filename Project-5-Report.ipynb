{
 "cells": [
  {
   "cell_type": "markdown",
   "metadata": {},
   "source": [
    "# Project 5 Report\n",
    "#### Ben Raivel"
   ]
  },
  {
   "cell_type": "code",
   "execution_count": 2,
   "metadata": {},
   "outputs": [
    {
     "name": "stdout",
     "output_type": "stream",
     "text": [
      "The autoreload extension is already loaded. To reload it, use:\n",
      "  %reload_ext autoreload\n"
     ]
    }
   ],
   "source": [
    "%load_ext autoreload\n",
    "import pandas as pd\n",
    "import HashTable as ht\n",
    "import serial\n",
    "import multitasking\n",
    "import multiprocessing\n",
    "import shutil\n",
    "import time\n",
    "import matplotlib.pyplot as plt\n",
    "\n",
    "files = ['rc/reddit_comments_2008.txt', 'rc/reddit_comments_2009.txt', 'rc/reddit_comments_2010.txt', \n",
    "                'rc/reddit_comments_2011.txt', 'rc/reddit_comments_2012.txt', 'rc/reddit_comments_2013.txt',\n",
    "                'rc/reddit_comments_2014.txt', 'rc/reddit_comments_2015.txt']\n",
    "\n",
    "years = [2008, 2009, 2010, 2011, 2012, 2013, 2014, 2015]"
   ]
  },
  {
   "cell_type": "markdown",
   "metadata": {},
   "source": [
    "## Multiprocessing\n",
    "Below is code to count words across all files into a list of pandas DataFrames, one per input file (year), with columns for 'val' (raw count of word), 'key' (word), and 'freq' (frequency of word)"
   ]
  },
  {
   "cell_type": "code",
   "execution_count": null,
   "metadata": {},
   "outputs": [],
   "source": [
    "# list to hold pandas df for each year\n",
    "multi_df_list = []\n",
    "\n",
    "# loop over list of file names\n",
    "for f in files:\n",
    "\n",
    "    # create a 'parent' hashtable\n",
    "    multi_table = ht.HashTable()\n",
    "\n",
    "    # open file\n",
    "    file = open(f, 'r')\n",
    "\n",
    "    # create a generator to iterate over 100,000 line blocks of file\n",
    "    block_gen = multitasking.gen_block(file)\n",
    "\n",
    "    # create a processing pool\n",
    "    pool = multiprocessing.Pool()\n",
    "\n",
    "    # non-blocking map of count words function onto generator\n",
    "    sub_tables = pool.imap(multitasking.m_count_words, block_gen)\n",
    "\n",
    "    # for each table returned by pool\n",
    "    for t in sub_tables:\n",
    "\n",
    "        # combine with the main table\n",
    "        multi_table.combine(t)\n",
    "\n",
    "    # convert hash table to dataframe and return\n",
    "    multi_df_list.append(multi_table.to_df())\n"
   ]
  },
  {
   "cell_type": "code",
   "execution_count": null,
   "metadata": {},
   "outputs": [],
   "source": [
    "for i in range(len(multi_df_list)):\n",
    "\n",
    "    print('Top 10 words {year:d}'.format(year = years[i]))\n",
    "    \n",
    "    print(multi_df_list[i].head(10))\n",
    "\n",
    "    print('\\n')"
   ]
  },
  {
   "cell_type": "markdown",
   "metadata": {},
   "source": [
    "### Performance Comparison\n",
    "#### Serial Code"
   ]
  },
  {
   "cell_type": "code",
   "execution_count": null,
   "metadata": {},
   "outputs": [],
   "source": []
  },
  {
   "cell_type": "markdown",
   "metadata": {},
   "source": [
    "#### Multiprocessing Code"
   ]
  },
  {
   "cell_type": "code",
   "execution_count": 3,
   "metadata": {},
   "outputs": [],
   "source": [
    "try:\n",
    "    shutil.rmtree('logs')\n",
    "except:\n",
    "    pass\n",
    "os.mkdir('logs')\n",
    "\n",
    "# create a 'parent' hashtable\n",
    "test_table = ht.HashTable()\n",
    "\n",
    "# open file\n",
    "file = open(files[0], 'r')\n",
    "\n",
    "# create a generator to iterate over 100,000 line blocks of file\n",
    "block_gen = multitasking.gen_block(file, time.time())\n",
    "\n",
    "# create a processing pool\n",
    "pool = multiprocessing.Pool()\n",
    "\n",
    "# non-blocking map of count words function onto generator\n",
    "sub_tables = pool.imap(multitasking.m_count_words, block_gen)\n",
    "\n",
    "# for each table returned by pool\n",
    "for t in sub_tables:\n",
    "\n",
    "    # combine with the main table\n",
    "    test_table.combine(t)"
   ]
  },
  {
   "cell_type": "markdown",
   "metadata": {},
   "source": [
    "#### Plots\n",
    "Generate a plot of words counted per process for multiprocessing word counting. The four (on my machine) worker processes count words in 100,000 line blocks, then merge them into the parent processes' table"
   ]
  },
  {
   "cell_type": "code",
   "execution_count": 4,
   "metadata": {},
   "outputs": [
    {
     "data": {
      "image/png": "[encoded data removed]",
      "text/plain": [
       "<Figure size 432x288 with 1 Axes>"
      ]
     },
     "metadata": {
      "needs_background": "light"
     },
     "output_type": "display_data"
    }
   ],
   "source": [
    "times = []\n",
    "sizes = []\n",
    "names = []\n",
    "\n",
    "log_files = os.scandir('logs')\n",
    "\n",
    "for lf in log_files:\n",
    "\n",
    "    df = pd.read_csv(lf)\n",
    "\n",
    "    times.append(df.get('time'))\n",
    "    sizes.append(df.get('n_total'))\n",
    "    names.append(lf.name.split('_')[0])\n",
    "\n",
    "for i in range(len(times)):\n",
    "\n",
    "    plt.plot(times[i], sizes[i], label = names[i])\n",
    "\n",
    "plt.legend(title = 'PID:')\n",
    "plt.title('Words Counted vs Time (per process)')\n",
    "plt.xlabel('Time (s)')\n",
    "plt.ylabel('Words Counted')\n",
    "plt.show()"
   ]
  }
 ],
 "metadata": {
  "interpreter": {
   "hash": "b8bdd4e700647ba2b08c59e5df8b7da1dcf50a218bcd4c1bcd9b3dc92e8788e5"
  },
  "kernelspec": {
   "display_name": "Python 3.9.6 64-bit",
   "language": "python",
   "name": "python3"
  },
  "language_info": {
   "codemirror_mode": {
    "name": "ipython",
    "version": 3
   },
   "file_extension": ".py",
   "mimetype": "text/x-python",
   "name": "python",
   "nbconvert_exporter": "python",
   "pygments_lexer": "ipython3",
   "version": "3.9.6"
  },
  "orig_nbformat": 4
 },
 "nbformat": 4,
 "nbformat_minor": 2
}
